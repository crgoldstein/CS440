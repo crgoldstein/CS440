{
 "cells": [
  {
   "cell_type": "markdown",
   "metadata": {},
   "source": [
    "# Assignment 1: Uninformed Search"
   ]
  },
  {
   "cell_type": "markdown",
   "metadata": {},
   "source": [
    "Claire Goldstein\n",
    "\n"
   ]
  },
  {
   "cell_type": "markdown",
   "metadata": {},
   "source": [
    "## Overview"
   ]
  },
  {
   "cell_type": "markdown",
   "metadata": {},
   "source": [
    "Breadth-first and depth-first are two algorithms for performing\n",
    "uninformed search---a search that does not use\n",
    "knowledge about the goal of the search.  You will implement both\n",
    "search algorithms in python and test them on a simple graph."
   ]
  },
  {
   "cell_type": "markdown",
   "metadata": {},
   "source": [
    "## Required Code"
   ]
  },
  {
   "cell_type": "markdown",
   "metadata": {},
   "source": [
    "In this jupyter notebook, you must implement at least the following functions:\n",
    "\n",
    "  * `breadthFirstSearch(startState, goalState, successorsf)` \n",
    "  * `depthFirstSearch(startState, goalState, successorsf)`\n",
    "  \n",
    "Each receives as arguments the starting state, the goal state, and a successors function.  `breadthFirstSearch` returns the breadth-first solution path as a list of states starting with the `startState` and ending with the `goalState`.  `depthFirstSearch` returns the depth-first solution path.\n",
    "\n",
    "The search algorithm has been implemented by the specifications in [03 Problem-Solving Agents](http://nbviewer.jupyter.org/url/www.cs.colostate.edu/~anderson/cs440/notebooks/03 Problem-Solving Agents.ipynb) lecture notes."
   ]
  },
  {
   "cell_type": "markdown",
   "metadata": {},
   "source": [
    "# Example"
   ]
  },
  {
   "cell_type": "markdown",
   "metadata": {},
   "source": [
    "Here is a simple example.  States are defined by lower case letters.  A dictionary stores a list of successor states for each state in the graph that has successors."
   ]
  },
  {
   "cell_type": "code",
   "execution_count": 1,
   "metadata": {},
   "outputs": [
    {
     "data": {
      "text/plain": [
       "{'a': ['b', 'c', 'd'],\n",
       " 'b': ['e', 'f', 'g'],\n",
       " 'c': ['a', 'h', 'i'],\n",
       " 'd': ['j', 'z'],\n",
       " 'e': ['k', 'l'],\n",
       " 'g': ['m'],\n",
       " 'k': ['z']}"
      ]
     },
     "execution_count": 1,
     "metadata": {},
     "output_type": "execute_result"
    }
   ],
   "source": [
    "successors = {'a':  ['b', 'c', 'd'],\n",
    "              'b':  ['e', 'f', 'g'],\n",
    "              'c':  ['a','h', 'i'],\n",
    "              'd':  ['j', 'z'],\n",
    "              'e':  ['k', 'l'],\n",
    "              'g':  ['m'],\n",
    "              'k':  ['z']}\n",
    "successors"
   ]
  },
  {
   "cell_type": "code",
   "execution_count": 2,
   "metadata": {},
   "outputs": [
    {
     "data": {
      "text/plain": [
       "['b', 'c', 'd']"
      ]
     },
     "execution_count": 2,
     "metadata": {},
     "output_type": "execute_result"
    }
   ],
   "source": [
    "successors.get('a',[])"
   ]
  },
  {
   "cell_type": "code",
   "execution_count": 3,
   "metadata": {},
   "outputs": [],
   "source": [
    "import copy\n",
    "\n",
    "def successorsf(state):\n",
    "    return copy.copy(successors.get(state, []))"
   ]
  },
  {
   "cell_type": "code",
   "execution_count": 4,
   "metadata": {},
   "outputs": [
    {
     "data": {
      "text/plain": [
       "['k', 'l']"
      ]
     },
     "execution_count": 4,
     "metadata": {},
     "output_type": "execute_result"
    }
   ],
   "source": [
    "successorsf('e')"
   ]
  },
  {
   "cell_type": "markdown",
   "metadata": {},
   "source": [
    "# Implementaion of DFS & BFS \n",
    "\n",
    "\n",
    "From the  in [03 Problem-Solving Agents](http://nbviewer.jupyter.org/url/www.cs.colostate.edu/~anderson/cs440/notebooks/03 Problem-Solving Agents.ipynb) Lecture Notes : \n",
    "\n",
    "Here is an algorithm definition for both breadth-first and depth-first\n",
    "search, tailored to fit the python implementation you must complete\n",
    "for [Assignment 1](http://nbviewer.ipython.org/url/www.cs.colostate.edu/~anderson/cs440/notebooks/A1 Uninformed Search.ipynb).  The\n",
    "algorithm maintains a local variable named `unExpanded` to be a list\n",
    "of nodes whose children have not yet been generated (like the authors'\n",
    "`frontier` variable), and a dictionary named `expanded` to keep\n",
    "the nodes for which we have generated the children (like the authors'\n",
    "`explored` variable).  In each a node is stored with its parent,\n",
    "allowing a solution path to be generated be stepping backwards from\n",
    "the goal node once it is found.\n",
    "\n",
    "Given the `startState`, `goalState`, `successorsf`, and\n",
    "`breadthFirst` (a boolean variable):\n",
    "  * Initialize `expanded` to be an empty dictionary\n",
    "  * Initialize `unExpanded` to be a list containing the pair `(startState, None)`\n",
    "  * If `startState` is the `goalState`, return the list containing just `startState`\n",
    "  * Repeat the following steps while `unExpanded` is not empty:\n",
    "    * Pop from the end of `unExpanded` a (`state`, `parent`) pair.\n",
    "    * Generate the `children` of `state` using the `successorsf` function.\n",
    "    * Add `state: parent` to the `expanded` dictionary\n",
    "    * For efficiency, remove from `children` any states that are already  in `expanded` or `unExpanded`.\n",
    "    * If the goal has been found (in python, `goalState` is in `children`):\n",
    "      * Initialize the solution path with the list `[state, goalState]`. \n",
    "      * While `parent` exists:\n",
    "        * Insert `parent` to the front of the solution path.\n",
    "        * Set `parent` to the parent of `parent`.\n",
    "      * Return the solution path.\n",
    "    * <font color=\"green\">Sort and reverse the list of states in `children`, so that we all find the same solution paths.</font>\n",
    "    * Create a modified `children` list by changing each entry to be a pair (child, `parent`), where `parent` is the parent of the child.\n",
    "    * Insert the modified `children` list into the `unExpanded` list at the <font color=\"blue\">front if doing breadth-first search , or at the back if doing depth-first search.</font>  Use the boolean variable `breadthFirst` provided as the last argument in the call to this function to control inserting at the front the back.  <font color=\"red\">Do this insertion with one statement, not a for loop</font>, to preserve the order of the children.\n",
    "    \n",
    "  "
   ]
  },
  {
   "cell_type": "code",
   "execution_count": 5,
   "metadata": {},
   "outputs": [],
   "source": [
    "def Search(startState, goalState, successorsf, BFS):\n",
    "    ''' Search provides a depth first or breath first search based on the 4rd parameter. \n",
    "        The 3rd parameter is the successorsf function as the defintiton of what children each node.\n",
    "        The 1st and 2nd parameters give us the start and stop of the a graph \n",
    "    '''\n",
    "    \n",
    "    expanded = {}\n",
    "    unExpanded =[(startState,None)]\n",
    "    \n",
    "    if startState == goalState :\n",
    "        return [startState]\n",
    "    \n",
    "    seen = [startState]\n",
    "    while len(unExpanded) != 0 :\n",
    "      \n",
    "        #Pop from the end of unExpanded a (state, parent) pair.\n",
    "        state, parent = unExpanded.pop()\n",
    "        #Generate the children of state using the successorsf function.\n",
    "        children = successorsf(state)\n",
    "        #Add state: parent to the expanded dictionary\n",
    "        expanded.update({state : parent})\n",
    "        \n",
    "        #for efficiency, remove from children any states that are already in seen \n",
    "        mod=[]\n",
    "        for child in children : \n",
    "            if child not in seen:\n",
    "                mod.append(child)\n",
    "                seen.append(child)\n",
    "        children = mod\n",
    "        \n",
    "       \n",
    "        #If the goal has been found (in python, goalState is in children):\n",
    "        if goalState in children:\n",
    "            #Initialize the solution path with the list [state, goalState].\n",
    "            path = [state, goalState]\n",
    "            #While parent exists:\n",
    "            while parent != None:\n",
    "                #Insert parent to the front of the solution path.\n",
    "                path.insert(0,parent)\n",
    "                #Set parent to the parent of parent.\n",
    "                parent = expanded.get(parent)\n",
    "            #Return the solution path.\n",
    "            return path\n",
    "        \n",
    "        #Sort and reverse the list of states in children, so that we all find the same solution paths.\n",
    "        children.sort()\n",
    "        children.reverse()\n",
    "        \n",
    "        \n",
    "        #Create a modified children list by changing each entry to be a pair (child, parent), \n",
    "        #where parent is the parent of the child.\n",
    "        \n",
    "        modified=[]\n",
    "        for child in children:\n",
    "            modified.append((child,state))\n",
    "        children=modified\n",
    "     \n",
    "        \n",
    "        if BFS: #children list into the unExpanded list at the front if doing breadth-first search\n",
    "            unExpanded = children + unExpanded \n",
    "                  \n",
    "        else:# at the back if doing depth-first search\n",
    "            unExpanded = unExpanded + children\n",
    "            \n",
    "                \n",
    "        #print(\"unExpanded \",unExpanded)\n",
    "        #print(\"expanded \",expanded)\n",
    "        #print(\"\\n\")\n",
    "        \n",
    "    if len(unExpanded)== 0:\n",
    "        return \"Goal not found\"\n",
    "       "
   ]
  },
  {
   "cell_type": "code",
   "execution_count": 6,
   "metadata": {},
   "outputs": [],
   "source": [
    "def depthFirstSearch(startState, goalState, successorsf):\n",
    "    '''DFS visit nodes of graph depth wise.\n",
    "        It visits nodes until reach a leaf or a node which doesn’t have non-visited nodes.\n",
    "        DFS will not always find Optimal solution '''\n",
    "    return Search(startState, goalState, successorsf, False)\n",
    "\n"
   ]
  },
  {
   "cell_type": "code",
   "execution_count": 7,
   "metadata": {},
   "outputs": [],
   "source": [
    "def breadthFirstSearch(startState, goalState, successorsf):    \n",
    "    ''' BFS visit nodes level by level in Graph \n",
    "        Will return the Optimal Path'''    \n",
    "    return Search(startState, goalState, successorsf, True)\n",
    "    "
   ]
  },
  {
   "cell_type": "markdown",
   "metadata": {},
   "source": [
    "Below is the given Tests by Chuck Anderson"
   ]
  },
  {
   "cell_type": "code",
   "execution_count": 8,
   "metadata": {},
   "outputs": [
    {
     "name": "stdout",
     "output_type": "stream",
     "text": [
      "Breadth-first\n",
      "path from a to a is ['a']\n",
      "path from a to m is ['a', 'b', 'g', 'm']\n",
      "path from a to z is ['a', 'd', 'z']\n"
     ]
    }
   ],
   "source": [
    "print('Breadth-first')\n",
    "print('path from a to a is', breadthFirstSearch('a', 'a', successorsf))\n",
    "print('path from a to m is', breadthFirstSearch('a', 'm', successorsf))\n",
    "print('path from a to z is', breadthFirstSearch('a', 'z', successorsf))"
   ]
  },
  {
   "cell_type": "code",
   "execution_count": 9,
   "metadata": {
    "scrolled": true
   },
   "outputs": [
    {
     "name": "stdout",
     "output_type": "stream",
     "text": [
      "Depth-first\n",
      "path from a to a is ['a']\n",
      "path from a to m is ['a', 'b', 'g', 'm']\n",
      "path from a to z is ['a', 'b', 'e', 'k', 'z']\n"
     ]
    }
   ],
   "source": [
    "print('Depth-first')\n",
    "print('path from a to a is', depthFirstSearch('a', 'a', successorsf))\n",
    "print('path from a to m is', depthFirstSearch('a', 'm', successorsf))\n",
    "print('path from a to z is', depthFirstSearch('a', 'z', successorsf))"
   ]
  },
  {
   "cell_type": "markdown",
   "metadata": {},
   "source": [
    "Tests by Claire \n"
   ]
  },
  {
   "cell_type": "code",
   "execution_count": 10,
   "metadata": {},
   "outputs": [],
   "source": [
    "successors2 = {'a': ['b', 'c', 'd'],\n",
    "              'b':  ['e', 'f', 'g'],\n",
    "              'c':  ['a','h', 'i'],\n",
    "              'd':  ['j', 'k'],\n",
    "              'e':  ['l'],\n",
    "              'f':  ['m'],\n",
    "              'g':  ['n','o','p']}\n",
    "import copy\n",
    "\n",
    "def successorsf2(state):\n",
    "    return copy.copy(successors2.get(state, []))"
   ]
  },
  {
   "cell_type": "code",
   "execution_count": 11,
   "metadata": {},
   "outputs": [
    {
     "name": "stdout",
     "output_type": "stream",
     "text": [
      "Breadth-first\n",
      "path from a to a is ['a']\n",
      "path from a to m is ['a', 'b', 'f', 'm']\n",
      "path from a to z is Goal not found\n",
      "path from a to o is ['a', 'b', 'g', 'o']\n",
      "path from a to k is ['a', 'd', 'k']\n"
     ]
    }
   ],
   "source": [
    "print('Breadth-first')\n",
    "print('path from a to a is', breadthFirstSearch('a', 'a', successorsf2))\n",
    "print('path from a to m is', breadthFirstSearch('a', 'm', successorsf2))\n",
    "print('path from a to z is', breadthFirstSearch('a', 'z', successorsf2))\n",
    "print('path from a to o is', breadthFirstSearch('a', 'o', successorsf2))\n",
    "print('path from a to k is', breadthFirstSearch('a', 'k', successorsf2))"
   ]
  },
  {
   "cell_type": "code",
   "execution_count": 12,
   "metadata": {},
   "outputs": [
    {
     "name": "stdout",
     "output_type": "stream",
     "text": [
      "Depth-first\n",
      "path from a to a is ['a']\n",
      "path from a to m is ['a', 'b', 'f', 'm']\n",
      "path from a to z is Goal not found\n",
      "path from a to o is ['a', 'b', 'g', 'o']\n",
      "path from a to k is ['a', 'd', 'k']\n"
     ]
    }
   ],
   "source": [
    "print('Depth-first')\n",
    "print('path from a to a is', depthFirstSearch('a', 'a', successorsf2))\n",
    "print('path from a to m is', depthFirstSearch('a', 'm', successorsf2))\n",
    "print('path from a to z is', depthFirstSearch('a', 'z', successorsf2))\n",
    "print('path from a to o is', depthFirstSearch('a', 'o', successorsf2))\n",
    "print('path from a to k is', depthFirstSearch('a', 'k', successorsf2))"
   ]
  },
  {
   "cell_type": "markdown",
   "metadata": {},
   "source": [
    "Let's try a navigation problem around a grid of size 10 x 10.\n",
    "\n",
    "Tests By Chuck:"
   ]
  },
  {
   "cell_type": "code",
   "execution_count": 35,
   "metadata": {},
   "outputs": [],
   "source": [
    "def gridSuccessors(state):\n",
    "    row, col = state\n",
    "    # succs will be list of tuples () rather than list of lists [] because state must\n",
    "    # be an immutable type to serve as a key in dictionary of expanded nodes\n",
    "    succs = []\n",
    "    for r in [-1, 0, 1]:\n",
    "        for c in [-1, 0, 1]:\n",
    "            newr = row + r\n",
    "            newc = col + c\n",
    "            if 0 <= newr <= 9 and 0 <= newc <= 9:  # cool, huh?\n",
    "                succs.append( (newr, newc) )\n",
    "    return succs"
   ]
  },
  {
   "cell_type": "code",
   "execution_count": 14,
   "metadata": {},
   "outputs": [
    {
     "data": {
      "text/plain": [
       "[(2, 3), (2, 4), (2, 5), (3, 3), (3, 4), (3, 5), (4, 3), (4, 4), (4, 5)]"
      ]
     },
     "execution_count": 14,
     "metadata": {},
     "output_type": "execute_result"
    }
   ],
   "source": [
    "gridSuccessors([3,4])"
   ]
  },
  {
   "cell_type": "code",
   "execution_count": 15,
   "metadata": {},
   "outputs": [
    {
     "data": {
      "text/plain": [
       "[(2, 8), (2, 9), (3, 8), (3, 9), (4, 8), (4, 9)]"
      ]
     },
     "execution_count": 15,
     "metadata": {},
     "output_type": "execute_result"
    }
   ],
   "source": [
    "gridSuccessors([3,9])"
   ]
  },
  {
   "cell_type": "code",
   "execution_count": 16,
   "metadata": {},
   "outputs": [
    {
     "data": {
      "text/plain": [
       "[(0, 0), (0, 1), (1, 0), (1, 1)]"
      ]
     },
     "execution_count": 16,
     "metadata": {},
     "output_type": "execute_result"
    }
   ],
   "source": [
    "gridSuccessors([0,0])"
   ]
  },
  {
   "cell_type": "code",
   "execution_count": 17,
   "metadata": {},
   "outputs": [
    {
     "name": "stdout",
     "output_type": "stream",
     "text": [
      "Breadth-first\n",
      "path from (0, 0) to (9, 9) is [(0, 0), (1, 1), (2, 2), (3, 3), (4, 4), (5, 5), (6, 6), (7, 7), (8, 8), (9, 9)]\n"
     ]
    }
   ],
   "source": [
    "print('Breadth-first')\n",
    "print('path from (0, 0) to (9, 9) is', breadthFirstSearch((0, 0), (9, 9), gridSuccessors))"
   ]
  },
  {
   "cell_type": "code",
   "execution_count": 18,
   "metadata": {},
   "outputs": [
    {
     "name": "stdout",
     "output_type": "stream",
     "text": [
      "Depth-first\n",
      "path from (0, 0) to (9, 9) is [(0, 0), (0, 1), (0, 2), (0, 3), (0, 4), (0, 5), (0, 6), (0, 7), (0, 8), (1, 9), (2, 8), (2, 7), (2, 6), (2, 5), (2, 4), (2, 3), (2, 2), (2, 1), (3, 0), (4, 0), (5, 0), (6, 0), (7, 0), (8, 0), (9, 1), (8, 2), (7, 2), (6, 2), (5, 2), (4, 3), (4, 4), (4, 5), (4, 6), (4, 7), (4, 8), (5, 9), (6, 8), (6, 7), (6, 6), (6, 5), (7, 4), (8, 4), (9, 5), (8, 6), (8, 7), (8, 8), (9, 9)]\n"
     ]
    }
   ],
   "source": [
    "print('Depth-first')\n",
    "print('path from (0, 0) to (9, 9) is', depthFirstSearch((0, 0), (9, 9), gridSuccessors))"
   ]
  },
  {
   "cell_type": "markdown",
   "metadata": {},
   "source": [
    "Oooo, what kind of path is that?  Let's plot it."
   ]
  },
  {
   "cell_type": "code",
   "execution_count": 19,
   "metadata": {},
   "outputs": [],
   "source": [
    "import matplotlib.pyplot as plt\n",
    "%matplotlib inline"
   ]
  },
  {
   "cell_type": "code",
   "execution_count": 20,
   "metadata": {},
   "outputs": [
    {
     "data": {
      "text/plain": [
       "[(0, 0),\n",
       " (0, 1),\n",
       " (0, 2),\n",
       " (0, 3),\n",
       " (0, 4),\n",
       " (0, 5),\n",
       " (0, 6),\n",
       " (0, 7),\n",
       " (0, 8),\n",
       " (1, 9),\n",
       " (2, 8),\n",
       " (2, 7),\n",
       " (2, 6),\n",
       " (2, 5),\n",
       " (2, 4),\n",
       " (2, 3),\n",
       " (2, 2),\n",
       " (2, 1),\n",
       " (3, 0),\n",
       " (4, 0),\n",
       " (5, 0),\n",
       " (6, 0),\n",
       " (7, 0),\n",
       " (8, 0),\n",
       " (9, 1),\n",
       " (8, 2),\n",
       " (7, 2),\n",
       " (6, 2),\n",
       " (5, 2),\n",
       " (4, 3),\n",
       " (4, 4),\n",
       " (4, 5),\n",
       " (4, 6),\n",
       " (4, 7),\n",
       " (4, 8),\n",
       " (5, 9),\n",
       " (6, 8),\n",
       " (6, 7),\n",
       " (6, 6),\n",
       " (6, 5),\n",
       " (7, 4),\n",
       " (8, 4),\n",
       " (9, 5),\n",
       " (8, 6),\n",
       " (8, 7),\n",
       " (8, 8),\n",
       " (9, 9)]"
      ]
     },
     "execution_count": 20,
     "metadata": {},
     "output_type": "execute_result"
    }
   ],
   "source": [
    "path = depthFirstSearch((0, 0), (9, 9), gridSuccessors)\n",
    "path"
   ]
  },
  {
   "cell_type": "code",
   "execution_count": 21,
   "metadata": {
    "scrolled": true
   },
   "outputs": [
    {
     "data": {
      "image/png": "[encoded data removed]",
      "text/plain": [
       "<Figure size 432x288 with 1 Axes>"
      ]
     },
     "metadata": {},
     "output_type": "display_data"
    }
   ],
   "source": [
    "rows = [location[0] for location in path]\n",
    "cols = [location[1] for location in path]\n",
    "plt.plot(rows,cols,'o-');"
   ]
  },
  {
   "cell_type": "code",
   "execution_count": 22,
   "metadata": {},
   "outputs": [
    {
     "data": {
      "text/plain": [
       "[(0, 0),\n",
       " (1, 1),\n",
       " (2, 2),\n",
       " (3, 3),\n",
       " (4, 4),\n",
       " (5, 5),\n",
       " (6, 6),\n",
       " (7, 7),\n",
       " (8, 8),\n",
       " (9, 9)]"
      ]
     },
     "execution_count": 22,
     "metadata": {},
     "output_type": "execute_result"
    }
   ],
   "source": [
    "path = breadthFirstSearch((0, 0), (9, 9), gridSuccessors)\n",
    "path"
   ]
  },
  {
   "cell_type": "code",
   "execution_count": 23,
   "metadata": {},
   "outputs": [
    {
     "data": {
      "image/png": "[encoded data removed]",
      "text/plain": [
       "<Figure size 432x288 with 1 Axes>"
      ]
     },
     "metadata": {},
     "output_type": "display_data"
    }
   ],
   "source": [
    "rows = [location[0] for location in path]\n",
    "cols = [location[1] for location in path]\n",
    "plt.plot(rows,cols,'o-');"
   ]
  },
  {
   "cell_type": "code",
   "execution_count": 24,
   "metadata": {},
   "outputs": [
    {
     "data": {
      "text/plain": [
       "'Goal not found'"
      ]
     },
     "execution_count": 24,
     "metadata": {},
     "output_type": "execute_result"
    }
   ],
   "source": [
    "depthFirstSearch((0, 0), (9, 20), gridSuccessors)"
   ]
  },
  {
   "cell_type": "markdown",
   "metadata": {},
   "source": [
    "Tests by Claire: \n",
    "    "
   ]
  },
  {
   "cell_type": "code",
   "execution_count": 25,
   "metadata": {},
   "outputs": [
    {
     "name": "stdout",
     "output_type": "stream",
     "text": [
      "[(0, 0), (0, 1), (0, 2), (0, 3), (0, 4), (0, 5), (0, 6), (0, 7), (0, 8), (1, 9), (2, 8), (2, 7), (2, 6), (2, 5), (2, 4), (2, 3), (2, 2), (2, 1), (3, 0), (4, 0), (5, 0), (6, 0), (7, 0), (8, 0), (9, 1), (8, 2), (7, 2), (6, 2), (5, 2), (4, 3), (4, 4), (4, 5), (4, 6), (4, 7), (4, 8), (5, 9), (6, 8), (7, 9)]\n"
     ]
    },
    {
     "data": {
      "image/png": "[encoded data removed]",
      "text/plain": [
       "<Figure size 432x288 with 1 Axes>"
      ]
     },
     "metadata": {},
     "output_type": "display_data"
    }
   ],
   "source": [
    "DFS= depthFirstSearch((0, 0), (7, 9), gridSuccessors)\n",
    "print(DFS)\n",
    "rowsDFS = [location[0] for location in DFS]\n",
    "colsDFS = [location[1] for location in DFS]\n",
    "plt.plot(rowsDFS,colsDFS,'o-');"
   ]
  },
  {
   "cell_type": "code",
   "execution_count": 26,
   "metadata": {
    "scrolled": true
   },
   "outputs": [
    {
     "name": "stdout",
     "output_type": "stream",
     "text": [
      "[(0, 0), (0, 1), (0, 2), (1, 3), (2, 4), (3, 5), (4, 6), (5, 7), (6, 8), (7, 9)]\n"
     ]
    },
    {
     "data": {
      "image/png": "[encoded data removed]",
      "text/plain": [
       "<Figure size 432x288 with 1 Axes>"
      ]
     },
     "metadata": {},
     "output_type": "display_data"
    }
   ],
   "source": [
    "BFS = breadthFirstSearch((0, 0), (7, 9), gridSuccessors)\n",
    "print(BFS)\n",
    "rowsBFS = [location[0] for location in BFS]\n",
    "colsBFS = [location[1] for location in BFS]\n",
    "plt.plot(rowsBFS,colsBFS,'s-');"
   ]
  },
  {
   "cell_type": "code",
   "execution_count": 27,
   "metadata": {},
   "outputs": [
    {
     "data": {
      "image/png": "[encoded data removed]",
      "text/plain": [
       "<Figure size 432x288 with 1 Axes>"
      ]
     },
     "metadata": {},
     "output_type": "display_data"
    }
   ],
   "source": [
    "plt.plot(rowsBFS,colsBFS,'s-',rowsDFS,colsDFS,'o-');"
   ]
  },
  {
   "cell_type": "markdown",
   "metadata": {},
   "source": [
    "# Extra Credit\n",
    "\n",
    "For extra credit, use your functions to solve the Camels Puzzle, described at [Logic Puzzles](http://www.folj.com/puzzles/).\n",
    "The following code illustrates one possible state representation and shows results of a breadth-first and a dept-first search.  \n",
    "\n",
    "You must define a new successors function, called `camelSuccessorsf`. "
   ]
  },
  {
   "cell_type": "code",
   "execution_count": 28,
   "metadata": {},
   "outputs": [
    {
     "data": {
      "text/plain": [
       "('R', 'R', 'R', 'R', ' ', 'L', 'L', 'L', 'L')"
      ]
     },
     "execution_count": 28,
     "metadata": {},
     "output_type": "execute_result"
    }
   ],
   "source": [
    "camelStartState= ('R', 'R', 'R', 'R', ' ', 'L', 'L', 'L', 'L')\n",
    "camelStartState"
   ]
  },
  {
   "cell_type": "code",
   "execution_count": 29,
   "metadata": {},
   "outputs": [],
   "source": [
    "camelGoalState = ('L', 'L', 'L', 'L', ' ', 'R', 'R', 'R', 'R')"
   ]
  },
  {
   "cell_type": "code",
   "execution_count": 30,
   "metadata": {},
   "outputs": [],
   "source": [
    "import copy\n",
    "\n",
    "def camelSuccessorsf(camelState):\n",
    "    right = ()\n",
    "    left  = ()\n",
    "    space = camelState.index(' ')\n",
    "    returnList =[]\n",
    "    \n",
    "    #Right:\n",
    "    #R jumps over L into space \n",
    "    if (space - 2) >= 0 and  camelState[space - 1] != camelState[space - 2] and camelState[space - 2] == 'R' : \n",
    "        #('R', 'R', 'R', 'L', 'R', 'L', ' ', 'L', 'L')\n",
    "        li=list(camelState)\n",
    "        li[space]= 'R'\n",
    "        li[space - 2]=' '\n",
    "        right=tuple(li)\n",
    "        \n",
    "     # R moves 1 right     \n",
    "    if (space - 1)>=0 and camelState[space - 1] == 'R' :\n",
    "        #('R', 'R', 'R', 'R', ' ', 'L', 'L', 'L', 'L') - R in position 3 moves into space \n",
    "        li=list(camelState)\n",
    "        li[space]='R'\n",
    "        li[space-1]=' '\n",
    "        right=tuple(li) \n",
    "  \n",
    "        \n",
    "    #Left:\n",
    "    #L jumps over R into space \n",
    "    if  (space +2) <=8 and camelState[space + 1] != camelState[space + 2] and camelState[space + 2] == 'L' : \n",
    "        #('R', 'R', 'R', ' ', 'R', 'L', 'L', 'L', 'L') \n",
    "        li=list(camelState)\n",
    "        li[space]='L'\n",
    "        li[space + 2]=' '\n",
    "        left=tuple(li)\n",
    "        \n",
    "    # L moves Left \n",
    "    if (space +1)<=8 and camelState[space + 1] == 'L' : \n",
    "        #('R', 'R', 'R', 'R', ' ', 'L', 'L', 'L', 'L') \n",
    "        li=list(camelState)\n",
    "        li[space]='L'\n",
    "        li[space+1]=' '\n",
    "        left=tuple(li)\n",
    "   \n",
    "    \n",
    "    if (len(right) !=0):\n",
    "        returnList.append(right)\n",
    "    \n",
    "    if (len(left) !=0):   \n",
    "        returnList.append(left)\n",
    "        \n",
    "    return returnList\n",
    "\n"
   ]
  },
  {
   "cell_type": "code",
   "execution_count": 31,
   "metadata": {},
   "outputs": [
    {
     "data": {
      "text/plain": [
       "[('R', 'R', 'R', ' ', 'R', 'L', 'L', 'L', 'L'),\n",
       " ('R', 'R', 'R', 'R', 'L', ' ', 'L', 'L', 'L')]"
      ]
     },
     "execution_count": 31,
     "metadata": {},
     "output_type": "execute_result"
    }
   ],
   "source": [
    "camelSuccessorsf(camelStartState)"
   ]
  },
  {
   "cell_type": "code",
   "execution_count": 32,
   "metadata": {
    "scrolled": true
   },
   "outputs": [
    {
     "data": {
      "text/plain": [
       "[('R', 'R', ' ', 'R', 'R', 'L', 'L', 'L', 'L'),\n",
       " ('R', 'R', 'R', 'L', 'R', ' ', 'L', 'L', 'L')]"
      ]
     },
     "execution_count": 32,
     "metadata": {},
     "output_type": "execute_result"
    }
   ],
   "source": [
    "children0 = camelSuccessorsf(camelStartState)\n",
    "\n",
    "camelSuccessorsf(children0[0])\n"
   ]
  },
  {
   "cell_type": "code",
   "execution_count": 33,
   "metadata": {},
   "outputs": [
    {
     "name": "stdout",
     "output_type": "stream",
     "text": [
      "Breadth-first solution: ( 25 steps)\n",
      "('R', 'R', 'R', 'R', ' ', 'L', 'L', 'L', 'L')\n",
      "('R', 'R', 'R', ' ', 'R', 'L', 'L', 'L', 'L')\n",
      "('R', 'R', 'R', 'L', 'R', ' ', 'L', 'L', 'L')\n",
      "('R', 'R', 'R', 'L', 'R', 'L', ' ', 'L', 'L')\n",
      "('R', 'R', 'R', 'L', ' ', 'L', 'R', 'L', 'L')\n",
      "('R', 'R', ' ', 'L', 'R', 'L', 'R', 'L', 'L')\n",
      "('R', ' ', 'R', 'L', 'R', 'L', 'R', 'L', 'L')\n",
      "('R', 'L', 'R', ' ', 'R', 'L', 'R', 'L', 'L')\n",
      "('R', 'L', 'R', 'L', 'R', ' ', 'R', 'L', 'L')\n",
      "('R', 'L', 'R', 'L', 'R', 'L', 'R', ' ', 'L')\n",
      "('R', 'L', 'R', 'L', 'R', 'L', 'R', 'L', ' ')\n",
      "('R', 'L', 'R', 'L', 'R', 'L', ' ', 'L', 'R')\n",
      "('R', 'L', 'R', 'L', ' ', 'L', 'R', 'L', 'R')\n",
      "('R', 'L', ' ', 'L', 'R', 'L', 'R', 'L', 'R')\n",
      "(' ', 'L', 'R', 'L', 'R', 'L', 'R', 'L', 'R')\n",
      "('L', ' ', 'R', 'L', 'R', 'L', 'R', 'L', 'R')\n",
      "('L', 'L', 'R', ' ', 'R', 'L', 'R', 'L', 'R')\n",
      "('L', 'L', 'R', 'L', 'R', ' ', 'R', 'L', 'R')\n",
      "('L', 'L', 'R', 'L', 'R', 'L', 'R', ' ', 'R')\n",
      "('L', 'L', 'R', 'L', 'R', 'L', ' ', 'R', 'R')\n",
      "('L', 'L', 'R', 'L', ' ', 'L', 'R', 'R', 'R')\n",
      "('L', 'L', ' ', 'L', 'R', 'L', 'R', 'R', 'R')\n",
      "('L', 'L', 'L', ' ', 'R', 'L', 'R', 'R', 'R')\n",
      "('L', 'L', 'L', 'L', 'R', ' ', 'R', 'R', 'R')\n",
      "('L', 'L', 'L', 'L', ' ', 'R', 'R', 'R', 'R')\n",
      "Depth-first solution: ( 25 steps)\n",
      "('R', 'R', 'R', 'R', ' ', 'L', 'L', 'L', 'L')\n",
      "('R', 'R', 'R', ' ', 'R', 'L', 'L', 'L', 'L')\n",
      "('R', 'R', 'R', 'L', 'R', ' ', 'L', 'L', 'L')\n",
      "('R', 'R', 'R', 'L', 'R', 'L', ' ', 'L', 'L')\n",
      "('R', 'R', 'R', 'L', ' ', 'L', 'R', 'L', 'L')\n",
      "('R', 'R', ' ', 'L', 'R', 'L', 'R', 'L', 'L')\n",
      "('R', ' ', 'R', 'L', 'R', 'L', 'R', 'L', 'L')\n",
      "('R', 'L', 'R', ' ', 'R', 'L', 'R', 'L', 'L')\n",
      "('R', 'L', 'R', 'L', 'R', ' ', 'R', 'L', 'L')\n",
      "('R', 'L', 'R', 'L', 'R', 'L', 'R', ' ', 'L')\n",
      "('R', 'L', 'R', 'L', 'R', 'L', 'R', 'L', ' ')\n",
      "('R', 'L', 'R', 'L', 'R', 'L', ' ', 'L', 'R')\n",
      "('R', 'L', 'R', 'L', ' ', 'L', 'R', 'L', 'R')\n",
      "('R', 'L', ' ', 'L', 'R', 'L', 'R', 'L', 'R')\n",
      "(' ', 'L', 'R', 'L', 'R', 'L', 'R', 'L', 'R')\n",
      "('L', ' ', 'R', 'L', 'R', 'L', 'R', 'L', 'R')\n",
      "('L', 'L', 'R', ' ', 'R', 'L', 'R', 'L', 'R')\n",
      "('L', 'L', 'R', 'L', 'R', ' ', 'R', 'L', 'R')\n",
      "('L', 'L', 'R', 'L', 'R', 'L', 'R', ' ', 'R')\n",
      "('L', 'L', 'R', 'L', 'R', 'L', ' ', 'R', 'R')\n",
      "('L', 'L', 'R', 'L', ' ', 'L', 'R', 'R', 'R')\n",
      "('L', 'L', ' ', 'L', 'R', 'L', 'R', 'R', 'R')\n",
      "('L', 'L', 'L', ' ', 'R', 'L', 'R', 'R', 'R')\n",
      "('L', 'L', 'L', 'L', 'R', ' ', 'R', 'R', 'R')\n",
      "('L', 'L', 'L', 'L', ' ', 'R', 'R', 'R', 'R')\n"
     ]
    }
   ],
   "source": [
    "bfs = breadthFirstSearch(camelStartState, camelGoalState, camelSuccessorsf)\n",
    "print('Breadth-first solution: (', len(bfs), 'steps)')\n",
    "for s in bfs:\n",
    "    print(s)\n",
    "\n",
    "dfs = depthFirstSearch(camelStartState, camelGoalState, camelSuccessorsf)\n",
    "print('Depth-first solution: (', len(dfs), 'steps)')\n",
    "for s in dfs:\n",
    "    print(s)\n",
    "     "
   ]
  },
  {
   "cell_type": "markdown",
   "metadata": {},
   "source": [
    "## Grading\n",
    "\n",
    "Your notebook will be run and graded automatically. Download [A1grader.tar](http://www.cs.colostate.edu/~anderson/cs440/notebooks/A1grader.tar) and extract A1grader.py from it. Run the code in the following cell to demonstrate an example grading session. You should see a perfect score of 80/100 if your functions are defined correctly. \n",
    "\n",
    "The remaining 20% will be based on your writing.  In markdown cells, explain what your functions are doing and summarize the algorithms.\n",
    "\n",
    "Add at least one markdown cell that describes problems you encountered in trying to solve this assignment."
   ]
  },
  {
   "cell_type": "markdown",
   "metadata": {},
   "source": [
    "## Check-in"
   ]
  },
  {
   "cell_type": "markdown",
   "metadata": {},
   "source": [
    "Do not include this section in your notebook.\n",
    "\n",
    "Name your notebook ```Lastname-A1.ipynb```.  So, for me it would be ```Anderson-A1.ipynb```.  Submit the file using the ```Assignment 1``` link on [Canvas](https://colostate.instructure.com/courses/55296).\n",
    "\n",
    "Grading will be based on \n",
    "\n",
    "  * correct behavior of the required functions, and\n",
    "  * readability of the notebook."
   ]
  },
  {
   "cell_type": "code",
   "execution_count": 34,
   "metadata": {},
   "outputs": [
    {
     "name": "stdout",
     "output_type": "stream",
     "text": [
      "\n",
      "======================= Code Execution =======================\n",
      "\n",
      "Extracting python code from notebook named 'Goldstein-A1.ipynb' and storing in notebookcode.py\n",
      "Removing all statements that are not function or class defs or import statements.\n",
      "Searching this graph:\n",
      " {'a': ['b'], 'b': ['c', 'd'], 'c': ['e'], 'd': ['f', 'i'], 'e': ['g', 'h', 'i']}\n",
      "\n",
      "Looking for path from a to b.\n",
      "  Calling breadthFirstSearch(a, b, successorsf)\n",
      "      and depthFirstSearch(a, b, successorsf)\n",
      "10/10 points. Your breadthFirstSearch found correct solution path of ['a', 'b']\n",
      "10/10 points. Your depthFirstSearch found correct solution path of ['a', 'b']\n",
      "\n",
      "Looking for path from a to i.\n",
      "  Calling breadthFirstSearch(a, i, successorsf)\n",
      "      and depthFirstSearch(a, i, successorsf)\n",
      "20/20 points. Your breadthFirstSearch found correct solution path of ['a', 'b', 'd', 'i']\n",
      "20/20 points. Your depthFirstSearch found correct solution path of ['a', 'b', 'c', 'e', 'i']\n",
      "\n",
      "Looking for non-existant path from a to denver.\n",
      "  Calling breadthFirstSearch(a, denver, successorsf)\n",
      "      and depthFirstSearch(a, denver, successorsf)\n",
      "10/10 points. Your breadthFirstSearch found correct solution path of Goal not found\n",
      "10/10 points. Your depthFirstSearch found correct solution path of Goal not found\n",
      "\n",
      "P1 Execution Grade is 80/80\n",
      "\n",
      "======================= Description of Code and Results =======================\n",
      "\n",
      "Up to 20 more points will be given based on the qualty of your descriptions of the method and the results.\n"
     ]
    },
    {
     "data": {
      "text/plain": [
       "<Figure size 432x288 with 0 Axes>"
      ]
     },
     "metadata": {},
     "output_type": "display_data"
    }
   ],
   "source": [
    "%run -i A1grader.py\n"
   ]
  },
  {
   "cell_type": "code",
   "execution_count": null,
   "metadata": {},
   "outputs": [],
   "source": []
  }
 ],
 "metadata": {
  "anaconda-cloud": {},
  "kernelspec": {
   "display_name": "Python 3",
   "language": "python",
   "name": "python3"
  },
  "language_info": {
   "codemirror_mode": {
    "name": "ipython",
    "version": 3
   },
   "file_extension": ".py",
   "mimetype": "text/x-python",
   "name": "python",
   "nbconvert_exporter": "python",
   "pygments_lexer": "ipython3",
   "version": "3.6.5"
  }
 },
 "nbformat": 4,
 "nbformat_minor": 1
}
