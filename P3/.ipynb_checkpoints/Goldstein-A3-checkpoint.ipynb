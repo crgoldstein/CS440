{
 "cells": [
  {
   "cell_type": "markdown",
   "metadata": {},
   "source": [
    "# A3: A\\*, IDS, and Effective Branching Factor"
   ]
  },
  {
   "cell_type": "markdown",
   "metadata": {},
   "source": [
    "Claire Goldstein "
   ]
  },
  {
   "cell_type": "markdown",
   "metadata": {},
   "source": [
    "For this assignment, implement the Recursive Best-First Search implementation of the A\\* algorithm given in class.  Name this function `aStarSearch`. \n",
    "\n",
    "Include `iterativeDeepeningSearch` functions from A2 implemented with Node Class\n",
    "\n",
    "\n",
    "\n",
    "Defined a new function named `ebf` that returns an estimate of the effective\n",
    "branching factor for a search algorithm applied to a search problem.\n"
   ]
  },
  {
   "cell_type": "code",
   "execution_count": 1394,
   "metadata": {},
   "outputs": [],
   "source": [
    "class Node:\n",
    "    def __init__(self, state, f=0, g=0 ,h=0):\n",
    "        self.state = state \n",
    "        self.f = f # estimated cost of the solution path through node n\n",
    "        self.g = g # the sum of the step costs so far from the start node to this node\n",
    "        self.h = h # the sum of the step costs so far from the start node to this node\n",
    "        \n",
    "    def __repr__(self):\n",
    "        return \"Node(\" + repr(self.state) + \", f=\" + repr(self.f) + \\\n",
    "               \", g=\" + repr(self.g) + \", h=\" + repr(self.h) + \")\""
   ]
  },
  {
   "cell_type": "code",
   "execution_count": 1395,
   "metadata": {},
   "outputs": [],
   "source": [
    "global nodes\n",
    "nodes = 0"
   ]
  },
  {
   "cell_type": "code",
   "execution_count": 1396,
   "metadata": {},
   "outputs": [],
   "source": [
    "def depthLimitedSearch(state, goalState, actionsF, takeActionF, depthLimit):\n",
    "    global nodes\n",
    "    \n",
    "    if state == goalState :\n",
    "        return []\n",
    "    if depthLimit == 0:\n",
    "        return 'cutoff'\n",
    "    cutoffOccurred = False\n",
    "\n",
    "    for action in actionsF(state):\n",
    "        nodes += 1 \n",
    "        childState,cost = takeActionF(state, action) #actionsF(state) returns [('b', 1), (NextState, cost)] can only take the nextState\n",
    "        result = depthLimitedSearch(childState, goalState, actionsF, takeActionF, depthLimit-1)\n",
    "        if result == 'cutoff':\n",
    "            cutoffOccurred = True\n",
    "        elif result != 'failure':\n",
    "            result.insert(0, childState)\n",
    "            return result\n",
    "        \n",
    "    if cutoffOccurred == True:\n",
    "        return 'cutoff'\n",
    "    else:\n",
    "        return 'failure'\n",
    "    \n",
    "def iterativeDeepeningSearch(startState, goalState, actionsF, takeActionF, maxDepth):\n",
    "    for depth in range(maxDepth):\n",
    "        result = depthLimitedSearch(startState, goalState, actionsF, takeActionF, depth)\n",
    "        if result == 'failure':\n",
    "            return 'failure'\n",
    "        if result != 'cutoff':\n",
    "            result.insert(0, startState) #Add startState to front of solution path, in result, returned by depthLimitedSearch \n",
    "            return result\n",
    "    return 'cutoff'   \n"
   ]
  },
  {
   "cell_type": "code",
   "execution_count": 1397,
   "metadata": {},
   "outputs": [],
   "source": [
    "def aStarSearch(startState, actionsF, takeActionF, goalTestF, hF):\n",
    "    h = hF(startState)\n",
    "    startNode = Node(state=startState, f=0+h, g=0, h=h)\n",
    "    return aStarSearchHelper(startNode, actionsF, takeActionF, goalTestF, hF, float('inf'))\n",
    "\n",
    "\n",
    "def aStarSearchHelper(parentNode, actionsF, takeActionF, goalTestF, hF, fmax):\n",
    "    global nodes\n",
    "   \n",
    "    \n",
    "    if goalTestF(parentNode.state):\n",
    "        return ([parentNode.state], parentNode.g)\n",
    "    \n",
    "    ## Construct list of children nodes with f, g, and h values\n",
    "    actions = actionsF(parentNode.state)\n",
    "    if not actions:\n",
    "        return (\"failure\", float('inf'))\n",
    "    children = []\n",
    "    for action in actions:\n",
    "        nodes += 1 \n",
    "        \n",
    "        (childState,stepCost) = takeActionF(parentNode.state, action)\n",
    "        h = hF(childState)\n",
    "        g = parentNode.g + stepCost\n",
    "        f = max(h+g, parentNode.f)\n",
    "        childNode = Node(state=childState, f=f, g=g, h=h)\n",
    "        children.append(childNode)\n",
    "    while True:\n",
    "        # find best child\n",
    "        children.sort(key = lambda n: n.f) # sort by f value\n",
    "        bestChild = children[0]\n",
    "        if bestChild.f > fmax:\n",
    "            return (\"failure\",bestChild.f)\n",
    "        # next lowest f value\n",
    "        alternativef = children[1].f if len(children) > 1 else float('inf')\n",
    "        # expand best child, reassign its f value to be returned value\n",
    "        result,bestChild.f = aStarSearchHelper(bestChild, actionsF, takeActionF, goalTestF,\n",
    "                                            hF, min(fmax,alternativef))\n",
    "        if result is not \"failure\":               \n",
    "            result.insert(0,parentNode.state)      \n",
    "            return (result, bestChild.f)\n",
    "        \n",
    "        "
   ]
  },
  {
   "cell_type": "markdown",
   "metadata": {},
   "source": [
    "Here is a simple example using our usual simple graph search."
   ]
  },
  {
   "cell_type": "code",
   "execution_count": 1398,
   "metadata": {},
   "outputs": [],
   "source": [
    "def actionsF_simple(state):\n",
    "    succs = {'a': ['b', 'c'], 'b':['a'], 'c':['h'], 'h':['i'], 'i':['j', 'k', 'l'], 'k':['z']}\n",
    "    return [(s, 1) for s in succs.get(state, [])]\n",
    "\n",
    "def takeActionF_simple(state, action):\n",
    "    return action\n",
    "\n",
    "def goalTestF_simple(state, goal):\n",
    "    return state == goal\n",
    "\n",
    "def h_simple(state, goal):\n",
    "    return 1"
   ]
  },
  {
   "cell_type": "code",
   "execution_count": 1399,
   "metadata": {},
   "outputs": [
    {
     "data": {
      "text/plain": [
       "[('b', 1), ('c', 1)]"
      ]
     },
     "execution_count": 1399,
     "metadata": {},
     "output_type": "execute_result"
    }
   ],
   "source": [
    "actions = actionsF_simple('a')\n",
    "actions"
   ]
  },
  {
   "cell_type": "code",
   "execution_count": 1400,
   "metadata": {},
   "outputs": [
    {
     "data": {
      "text/plain": [
       "('b', 1)"
      ]
     },
     "execution_count": 1400,
     "metadata": {},
     "output_type": "execute_result"
    }
   ],
   "source": [
    "takeActionF_simple('a', actions[0])"
   ]
  },
  {
   "cell_type": "code",
   "execution_count": 1401,
   "metadata": {},
   "outputs": [
    {
     "data": {
      "text/plain": [
       "True"
      ]
     },
     "execution_count": 1401,
     "metadata": {},
     "output_type": "execute_result"
    }
   ],
   "source": [
    "goalTestF_simple('a', 'a')"
   ]
  },
  {
   "cell_type": "code",
   "execution_count": 1402,
   "metadata": {},
   "outputs": [
    {
     "data": {
      "text/plain": [
       "1"
      ]
     },
     "execution_count": 1402,
     "metadata": {},
     "output_type": "execute_result"
    }
   ],
   "source": [
    "h_simple('a', 'z')"
   ]
  },
  {
   "cell_type": "code",
   "execution_count": 1403,
   "metadata": {},
   "outputs": [
    {
     "data": {
      "text/plain": [
       "['a', 'c', 'h', 'i', 'k', 'z']"
      ]
     },
     "execution_count": 1403,
     "metadata": {},
     "output_type": "execute_result"
    }
   ],
   "source": [
    "iterativeDeepeningSearch('a', 'z', actionsF_simple, takeActionF_simple, 10)"
   ]
  },
  {
   "cell_type": "code",
   "execution_count": 1404,
   "metadata": {},
   "outputs": [
    {
     "data": {
      "text/plain": [
       "(['a', 'c', 'h', 'i', 'k', 'z'], 5)"
      ]
     },
     "execution_count": 1404,
     "metadata": {},
     "output_type": "execute_result"
    }
   ],
   "source": [
    "aStarSearch('a',actionsF_simple, takeActionF_simple,\n",
    "            lambda s: goalTestF_simple(s, 'z'),\n",
    "            lambda s: h_simple(s, 'z'))"
   ]
  },
  {
   "cell_type": "markdown",
   "metadata": {},
   "source": [
    "# Effective Branching Factor"
   ]
  },
  {
   "cell_type": "code",
   "execution_count": 1405,
   "metadata": {},
   "outputs": [],
   "source": [
    "def ebf(nNodes, depth, precision=0.01):\n",
    "    '''returns number of nodes expanded and depth reached during a search.'''\n",
    "    if depth == 0 or nNodes ==1:\n",
    "        return nNodes\n",
    "    else :\n",
    "        return ebfHELPER(1, nNodes, nNodes, depth, precision)\n",
    "   \n",
    "\n",
    "def ebfHELPER(low, high, nNodes, depth, precision): \n",
    "    mid  = (low + high)/2 \n",
    "    guess = (1 - mid**(depth+1)) / (1 - mid)\n",
    "      \n",
    "    if abs(guess - nNodes) < precision :\n",
    "        #print(abs(guess-nNodes))\n",
    "        #print(mid)\n",
    "        return mid \n",
    "        \n",
    "    elif guess < nNodes  :\n",
    "         return ebfHELPER(mid, high, nNodes, depth, precision)\n",
    "                \n",
    "    else:\n",
    "         return ebfHELPER(low, mid, nNodes, depth, precision)\n",
    "       "
   ]
  },
  {
   "cell_type": "code",
   "execution_count": 1406,
   "metadata": {
    "scrolled": true
   },
   "outputs": [
    {
     "data": {
      "text/plain": [
       "1.661376953125"
      ]
     },
     "execution_count": 1406,
     "metadata": {},
     "output_type": "execute_result"
    }
   ],
   "source": [
    "ebf(10, 3)"
   ]
  },
  {
   "cell_type": "code",
   "execution_count": 1407,
   "metadata": {},
   "outputs": [
    {
     "data": {
      "text/plain": [
       "1.303422212600708"
      ]
     },
     "execution_count": 1407,
     "metadata": {},
     "output_type": "execute_result"
    }
   ],
   "source": [
    "ebf(100, 12, 0.01)\n",
    "#1.3034343719482422"
   ]
  },
  {
   "cell_type": "markdown",
   "metadata": {},
   "source": [
    "The smallest argument values should be a depth of 0, and 1 node."
   ]
  },
  {
   "cell_type": "code",
   "execution_count": 1408,
   "metadata": {},
   "outputs": [
    {
     "data": {
      "text/plain": [
       "1"
      ]
     },
     "execution_count": 1408,
     "metadata": {},
     "output_type": "execute_result"
    }
   ],
   "source": [
    "ebf(1, 0)"
   ]
  },
  {
   "cell_type": "code",
   "execution_count": 1409,
   "metadata": {},
   "outputs": [
    {
     "data": {
      "text/plain": [
       "1.0078125"
      ]
     },
     "execution_count": 1409,
     "metadata": {},
     "output_type": "execute_result"
    }
   ],
   "source": [
    "ebf(2, 1)"
   ]
  },
  {
   "cell_type": "code",
   "execution_count": 1410,
   "metadata": {},
   "outputs": [
    {
     "data": {
      "text/plain": [
       "1.0000009536743164"
      ]
     },
     "execution_count": 1410,
     "metadata": {},
     "output_type": "execute_result"
    }
   ],
   "source": [
    "ebf(2, 1, precision=0.000001)"
   ]
  },
  {
   "cell_type": "code",
   "execution_count": 1411,
   "metadata": {},
   "outputs": [
    {
     "data": {
      "text/plain": [
       "11.275596931956898"
      ]
     },
     "execution_count": 1411,
     "metadata": {},
     "output_type": "execute_result"
    }
   ],
   "source": [
    "ebf(200000, 5)"
   ]
  },
  {
   "cell_type": "code",
   "execution_count": 1412,
   "metadata": {},
   "outputs": [
    {
     "data": {
      "text/plain": [
       "1.2348192492705223"
      ]
     },
     "execution_count": 1412,
     "metadata": {},
     "output_type": "execute_result"
    }
   ],
   "source": [
    "ebf(200000, 50)"
   ]
  },
  {
   "cell_type": "markdown",
   "metadata": {},
   "source": [
    "# Eight Tile Puzzel \n",
    "\n",
    "Apply `iterativeDeepeningSearch` and `aStarSearch` to several eight-tile sliding puzzle\n",
    "problems. For this you must include your implementations of these functions, from Assignment 2:\n",
    "\n",
    "  * `actionsF_8p(state)`: returns a list of up to four valid actions that can be applied in `state`. With each action include a step cost of 1. For example, if all four actions are possible from this state, return [('left', 1), ('right', 1), ('up', 1), ('down', 1)]."
   ]
  },
  {
   "cell_type": "code",
   "execution_count": 1413,
   "metadata": {},
   "outputs": [],
   "source": [
    "def findBlank_8p(startState):\n",
    "    index = startState.index(0)\n",
    "    \n",
    "    if(index >=0 and index<3):\n",
    "        return (0,index)\n",
    "        \n",
    "    if(index >=3 and index<6):\n",
    "        index=index-3\n",
    "        return (1,index)\n",
    "    \n",
    "    if(index >=6 and index<9):\n",
    "        index=index-6\n",
    "        return (2,index)\n",
    "\n",
    "\n",
    "def actionsF_8p(state):\n",
    "    '''returns a list of up to four valid actions that can be applied in state.\n",
    "    With each action include a step cost of 1. \n",
    "    For example, if all four actions are possible from this state, \n",
    "    return [('left', 1), ('right', 1), ('up', 1), ('down', 1)].'''\n",
    "    returnList=[]\n",
    "    blank = findBlank_8p(state)\n",
    "   \n",
    "    # Left or Right \n",
    "    if blank[1] == 2 or blank[1] == 1:\n",
    "        returnList.append(('left',1))\n",
    "    if blank[1] == 0 or blank[1] == 1:\n",
    "        returnList.append(('right',1))\n",
    "   # Up or Down \n",
    "    if blank[0] == 2 or blank[0] == 1:\n",
    "        returnList.append(('up',1))\n",
    "    if blank[0] == 0 or blank[0] == 1:\n",
    "        returnList.append(('down',1))    \n",
    "    return returnList\n",
    "    "
   ]
  },
  {
   "cell_type": "markdown",
   "metadata": {},
   "source": [
    " * `takeActionF_8p(state, action)`: return the state that results from applying `action` in `state` and the cost of the one step,\n",
    "  \n"
   ]
  },
  {
   "cell_type": "code",
   "execution_count": 1414,
   "metadata": {},
   "outputs": [],
   "source": [
    "import copy\n",
    "\n",
    "def takeActionF_8p(state, action): \n",
    "    '''return the state that results from applying action in state and the cost of the one step'''\n",
    "    move, cost = action\n",
    "    X = copy.copy(state)\n",
    "    index = X.index(0)\n",
    "    \n",
    "    if (move == 'left'):\n",
    "        X[index], X[index-1] = X[index-1], X[index]\n",
    "        \n",
    "    if (move == 'right'):\n",
    "        X[index], X[index+1] = X[index+1], X[index]\n",
    "        \n",
    "    if (move == 'up'):\n",
    "        X[index], X[index-3] = X[index-3], X[index]\n",
    "        \n",
    "    if (move == 'down'):\n",
    "        X[index], X[index+3] = X[index+3], X[index]\n",
    "          \n",
    "    return (X,cost);"
   ]
  },
  {
   "cell_type": "markdown",
   "metadata": {},
   "source": [
    "plus the following function for the eight-tile puzzle:\n",
    "\n",
    "  * `goalTestF_8p(state, goal)`\n",
    "  "
   ]
  },
  {
   "cell_type": "code",
   "execution_count": 1415,
   "metadata": {},
   "outputs": [],
   "source": [
    "def goalTestF_8p(state, goal):\n",
    "    if state == goal :\n",
    "        return True\n",
    "    else :\n",
    "        return False"
   ]
  },
  {
   "cell_type": "markdown",
   "metadata": {},
   "source": [
    "## Heuristic Functions\n",
    "\n",
    "For `aStarSearch` use the following two heuristic functions, plus one more of your own design, for a total of three heuristic functions.\n",
    "\n",
    "  * `h1_8p(state, goal)`: $h(state, goal) = 0$, for all states $state$ and all goal states $goal$,\n",
    "  * `h2_8p(state, goal)`: $h(state, goal) = m$, where $m$ is the Manhattan distance that the blank is from its goal position,\n",
    "  * `h3_8p(state, goal)`: $h(state, goal) = ?$, that you define.  It must be admissible, and not constant for all states."
   ]
  },
  {
   "cell_type": "code",
   "execution_count": 1416,
   "metadata": {},
   "outputs": [],
   "source": [
    "s = [2,1,3,5,4,0,6,7,8]\n",
    "g = [1,2,3,4,5,6,7,8,0]"
   ]
  },
  {
   "cell_type": "markdown",
   "metadata": {},
   "source": [
    "# Simple heuristic \n"
   ]
  },
  {
   "cell_type": "code",
   "execution_count": 1417,
   "metadata": {},
   "outputs": [
    {
     "data": {
      "text/plain": [
       "0"
      ]
     },
     "execution_count": 1417,
     "metadata": {},
     "output_type": "execute_result"
    }
   ],
   "source": [
    "def h1_8p(state, goal):\n",
    "    return 0;\n",
    "\n",
    "h1_8p(s,g)"
   ]
  },
  {
   "cell_type": "markdown",
   "metadata": {},
   "source": [
    "# The Manhattan distance heuristic \n",
    "    used for its simplicity and also because it is actually a pretty good underestimate on the number of moves required to bring a given board to the solution board. We simply compute the sum of the distances of each tile from where it belongs, completely ignoring all the other tiles."
   ]
  },
  {
   "cell_type": "code",
   "execution_count": 1418,
   "metadata": {},
   "outputs": [
    {
     "data": {
      "text/plain": [
       "9"
      ]
     },
     "execution_count": 1418,
     "metadata": {},
     "output_type": "execute_result"
    }
   ],
   "source": [
    "def h2_8p(state, goal):\n",
    "    \"\"\"Heuristic for 8 puzzle: returns sum for each tile of manhattan\n",
    "    distance between it's position in node's state and goal\"\"\" \n",
    "    distance = 0\n",
    "    \n",
    "    for i in state:\n",
    "        position_difference = abs(goal.index(i) - state.index(i))\n",
    "        if i is not 0:\n",
    "            a = position_difference % 3\n",
    "            b = position_difference / 3\n",
    "            distance += a + int(b)\n",
    "\n",
    "            if abs(goal.index(i) % 3 - state.index(i) % 3) == 2 and position_difference % 3 == 1:\n",
    "                distance += 2\n",
    "            \n",
    "    return distance\n",
    "  \n",
    "h2_8p(s,g)"
   ]
  },
  {
   "cell_type": "markdown",
   "metadata": {},
   "source": [
    "# Claire's Heuritstic\n",
    "    My Heuritstic will add 1 if the element at a certian index is equal in the state and the goal. This will never  return a number higher than 9 there for it is immissable\n",
    "    "
   ]
  },
  {
   "cell_type": "code",
   "execution_count": 1419,
   "metadata": {},
   "outputs": [
    {
     "data": {
      "text/plain": [
       "8"
      ]
     },
     "execution_count": 1419,
     "metadata": {},
     "output_type": "execute_result"
    }
   ],
   "source": [
    "def h3_8p(state, goal):\n",
    "    \"\"\"Heuristic for 8 puzzle: \n",
    "        returns the number of tiles 'out of place'\n",
    "        between a state and the goal\"\"\"\n",
    "    h=0\n",
    "    for i in goal:\n",
    "        if (state[i] != goal[i]):\n",
    "            h=h+1\n",
    "    return h;\n",
    "    \n",
    "    \n",
    "h3_8p(s,g)   "
   ]
  },
  {
   "cell_type": "code",
   "execution_count": 1420,
   "metadata": {},
   "outputs": [],
   "source": [
    "startState = [1,2,3,4,0,5,6,7,8] \n",
    "goal_0 = [1,2,3,4,0,5,6,7,8]\n",
    "goal_1 = [1,2,3,4,5,8,6,0,7]\n",
    "goal_2 =[1,0,3,4,5,8,2,6,7]"
   ]
  },
  {
   "cell_type": "markdown",
   "metadata": {},
   "source": [
    "# `iterativeDeepeningSearch` Testing "
   ]
  },
  {
   "cell_type": "code",
   "execution_count": 1421,
   "metadata": {},
   "outputs": [
    {
     "name": "stdout",
     "output_type": "stream",
     "text": [
      "[[1, 2, 3, 4, 0, 5, 6, 7, 8]] \n",
      "\n",
      "[[1, 2, 3, 4, 0, 5, 6, 7, 8], [1, 2, 3, 4, 5, 0, 6, 7, 8], [1, 2, 3, 4, 5, 8, 6, 7, 0], [1, 2, 3, 4, 5, 8, 6, 0, 7]] \n",
      "\n",
      "[[1, 2, 3, 4, 0, 5, 6, 7, 8], [1, 0, 3, 4, 2, 5, 6, 7, 8], [0, 1, 3, 4, 2, 5, 6, 7, 8], [4, 1, 3, 0, 2, 5, 6, 7, 8], [4, 1, 3, 2, 0, 5, 6, 7, 8], [4, 1, 3, 2, 5, 0, 6, 7, 8], [4, 1, 3, 2, 5, 8, 6, 7, 0], [4, 1, 3, 2, 5, 8, 6, 0, 7], [4, 1, 3, 2, 5, 8, 0, 6, 7], [4, 1, 3, 0, 5, 8, 2, 6, 7], [0, 1, 3, 4, 5, 8, 2, 6, 7], [1, 0, 3, 4, 5, 8, 2, 6, 7]] \n",
      "\n"
     ]
    }
   ],
   "source": [
    "print(iterativeDeepeningSearch(startState, goal_0, actionsF_8p, takeActionF_8p, 3),\"\\n\")\n",
    "\n",
    "print(iterativeDeepeningSearch(startState, goal_1, actionsF_8p, takeActionF_8p, 9),\"\\n\")\n",
    "\n",
    "print(iterativeDeepeningSearch(startState, goal_2, actionsF_8p, takeActionF_8p, 20),\"\\n\")"
   ]
  },
  {
   "cell_type": "markdown",
   "metadata": {},
   "source": [
    "# `aStarSearch` Testing "
   ]
  },
  {
   "cell_type": "markdown",
   "metadata": {},
   "source": [
    "### goal_0 with h1_8p, h2_8p, and h3_8p"
   ]
  },
  {
   "cell_type": "code",
   "execution_count": 1422,
   "metadata": {},
   "outputs": [
    {
     "name": "stdout",
     "output_type": "stream",
     "text": [
      "([[1, 2, 3, 4, 0, 5, 6, 7, 8]], 0) \n",
      "\n",
      "([[1, 2, 3, 4, 0, 5, 6, 7, 8]], 0) \n",
      "\n",
      "([[1, 2, 3, 4, 0, 5, 6, 7, 8]], 0) \n",
      "\n"
     ]
    }
   ],
   "source": [
    "print(aStarSearch(startState, actionsF_8p, takeActionF_8p,lambda s: goalTestF_8p(s, goal_0), lambda s: h1_8p(s, goal_0)),\"\\n\")\n",
    "\n",
    "print(aStarSearch(startState, actionsF_8p, takeActionF_8p,lambda s: goalTestF_8p(s, goal_0), lambda s: h2_8p(s, goal_0)),\"\\n\")\n",
    "\n",
    "print(aStarSearch(startState, actionsF_8p, takeActionF_8p,lambda s: goalTestF_8p(s, goal_0), lambda s: h3_8p(s, goal_0)),\"\\n\")\n"
   ]
  },
  {
   "cell_type": "markdown",
   "metadata": {},
   "source": [
    "### goal_1 with h1_8p, h2_8p, and h3_8p"
   ]
  },
  {
   "cell_type": "code",
   "execution_count": 1423,
   "metadata": {},
   "outputs": [
    {
     "name": "stdout",
     "output_type": "stream",
     "text": [
      "([[1, 2, 3, 4, 0, 5, 6, 7, 8], [1, 2, 3, 4, 5, 0, 6, 7, 8], [1, 2, 3, 4, 5, 8, 6, 7, 0], [1, 2, 3, 4, 5, 8, 6, 0, 7]], 3) \n",
      "\n",
      "([[1, 2, 3, 4, 0, 5, 6, 7, 8], [1, 2, 3, 4, 5, 0, 6, 7, 8], [1, 2, 3, 4, 5, 8, 6, 7, 0], [1, 2, 3, 4, 5, 8, 6, 0, 7]], 3) \n",
      "\n",
      "([[1, 2, 3, 4, 0, 5, 6, 7, 8], [1, 2, 3, 4, 5, 0, 6, 7, 8], [1, 2, 3, 4, 5, 8, 6, 7, 0], [1, 2, 3, 4, 5, 8, 6, 0, 7]], 3) \n",
      "\n"
     ]
    }
   ],
   "source": [
    "print(aStarSearch(startState, actionsF_8p, takeActionF_8p,lambda s: goalTestF_8p(s, goal_1), lambda s: h1_8p(s, goal_1)),\"\\n\")\n",
    "\n",
    "print(aStarSearch(startState, actionsF_8p, takeActionF_8p,lambda s: goalTestF_8p(s, goal_1), lambda s: h2_8p(s, goal_1)),\"\\n\")\n",
    "\n",
    "print(aStarSearch(startState, actionsF_8p, takeActionF_8p,lambda s: goalTestF_8p(s, goal_1), lambda s: h3_8p(s, goal_1)),\"\\n\")\n"
   ]
  },
  {
   "cell_type": "markdown",
   "metadata": {},
   "source": [
    "### goal_2 with h1_8p, h2_8p, and h3_8p"
   ]
  },
  {
   "cell_type": "code",
   "execution_count": 1424,
   "metadata": {},
   "outputs": [
    {
     "name": "stdout",
     "output_type": "stream",
     "text": [
      "([[1, 2, 3, 4, 0, 5, 6, 7, 8], [1, 0, 3, 4, 2, 5, 6, 7, 8], [0, 1, 3, 4, 2, 5, 6, 7, 8], [4, 1, 3, 0, 2, 5, 6, 7, 8], [4, 1, 3, 2, 0, 5, 6, 7, 8], [4, 1, 3, 2, 5, 0, 6, 7, 8], [4, 1, 3, 2, 5, 8, 6, 7, 0], [4, 1, 3, 2, 5, 8, 6, 0, 7], [4, 1, 3, 2, 5, 8, 0, 6, 7], [4, 1, 3, 0, 5, 8, 2, 6, 7], [0, 1, 3, 4, 5, 8, 2, 6, 7], [1, 0, 3, 4, 5, 8, 2, 6, 7]], 11) \n",
      "\n",
      "([[1, 2, 3, 4, 0, 5, 6, 7, 8], [1, 0, 3, 4, 2, 5, 6, 7, 8], [0, 1, 3, 4, 2, 5, 6, 7, 8], [4, 1, 3, 0, 2, 5, 6, 7, 8], [4, 1, 3, 2, 0, 5, 6, 7, 8], [4, 1, 3, 2, 5, 0, 6, 7, 8], [4, 1, 3, 2, 5, 8, 6, 7, 0], [4, 1, 3, 2, 5, 8, 6, 0, 7], [4, 1, 3, 2, 5, 8, 0, 6, 7], [4, 1, 3, 0, 5, 8, 2, 6, 7], [0, 1, 3, 4, 5, 8, 2, 6, 7], [1, 0, 3, 4, 5, 8, 2, 6, 7]], 11) \n",
      "\n",
      "([[1, 2, 3, 4, 0, 5, 6, 7, 8], [1, 0, 3, 4, 2, 5, 6, 7, 8], [0, 1, 3, 4, 2, 5, 6, 7, 8], [4, 1, 3, 0, 2, 5, 6, 7, 8], [4, 1, 3, 2, 0, 5, 6, 7, 8], [4, 1, 3, 2, 5, 0, 6, 7, 8], [4, 1, 3, 2, 5, 8, 6, 7, 0], [4, 1, 3, 2, 5, 8, 6, 0, 7], [4, 1, 3, 2, 5, 8, 0, 6, 7], [4, 1, 3, 0, 5, 8, 2, 6, 7], [0, 1, 3, 4, 5, 8, 2, 6, 7], [1, 0, 3, 4, 5, 8, 2, 6, 7]], 11) \n",
      "\n"
     ]
    }
   ],
   "source": [
    "print(aStarSearch(startState, actionsF_8p, takeActionF_8p,lambda s: goalTestF_8p(s, goal_2), lambda s: h1_8p(s, goal_2)),\"\\n\")\n",
    "\n",
    "print(aStarSearch(startState, actionsF_8p, takeActionF_8p,lambda s: goalTestF_8p(s, goal_2), lambda s: h2_8p(s, goal_2)),\"\\n\")\n",
    "\n",
    "print(aStarSearch(startState, actionsF_8p, takeActionF_8p,lambda s: goalTestF_8p(s, goal_2), lambda s: h3_8p(s, goal_2)),\"\\n\")\n"
   ]
  },
  {
   "cell_type": "markdown",
   "metadata": {},
   "source": [
    "## Comparison"
   ]
  },
  {
   "cell_type": "markdown",
   "metadata": {},
   "source": [
    "Compare their results by displayng\n",
    "solution path depth, number of nodes \n",
    "generated, and the effective branching factor, and discuss the results.  Do this by defining the following function that prints the table as shown in the example below.\n",
    "\n",
    "   - runExperiment(goalState1, goalState2, goalState3, [h1, h2, h3])\n",
    "   \n",
    "Define this function so it takes any number of $h$ functions in the list that is the fourth argument."
   ]
  },
  {
   "cell_type": "markdown",
   "metadata": {},
   "source": [
    "Apply all four algorithms (`iterativeDeepeningSearch` plus `aStarSearch` with the three heuristic\n",
    "functions) to three eight-tile puzzle problems with start state\n",
    "\n",
    "$$\n",
    "\\begin{array}{ccc}\n",
    "1 & 2 & 3\\\\\n",
    "4 & 0 & 5\\\\\n",
    "6 & 7 & 8\n",
    "\\end{array}\n",
    "$$\n",
    "\n",
    "and these three goal states.\n",
    "\n",
    "$$\n",
    "\\begin{array}{ccccccccccc}\n",
    "1 & 2 & 3  & ~~~~ & 1 & 2 & 3  &  ~~~~ & 1 & 0 &  3\\\\\n",
    "4 & 0 & 5  & & 4 & 5 & 8  & & 4 & 5 & 8\\\\\n",
    "6 & 7 & 8 &  & 6 & 0 & 7  & & 2 & 6 & 7\n",
    "\\end{array}\n",
    "$$"
   ]
  },
  {
   "cell_type": "markdown",
   "metadata": {},
   "source": [
    "Print a well-formatted table like the following.  Try to match this\n",
    "format. \n",
    "\n",
    "           [1, 2, 3, 4, 0, 5, 6, 7, 8]    [1, 2, 3, 4, 5, 8, 6, 0, 7]    [1, 0, 3, 4, 5, 8, 2, 6, 7] \n",
    "    Algorithm    Depth  Nodes  EBF              Depth  Nodes  EBF              Depth  Nodes  EBF          \n",
    "         IDS       0      0  0.000                3     43  3.086               11 225850  2.954         \n",
    "        A*h1       0      0  0.000                3    116  4.488               11 643246  3.263         \n",
    "        A*h2       0      0  0.000                3     51  3.297               11 100046  2.733         \n",
    "\n",
    "Of course you will have one more line for `h3`.\n",
    "\n",
    "\n",
    "\n",
    "# Extra Credit\n",
    "Add a third column for each result (from running runExperiment) that is the number of seconds each search required. You may get the total run time when running a function by doing\n",
    "\n",
    " import time\n",
    "\n",
    " start_time = time.time()\n",
    "\n",
    " < do some python stuff >\n",
    "\n",
    " end_time = time.time()\n",
    " print('This took', end_time - start_time, 'seconds.')"
   ]
  },
  {
   "cell_type": "code",
   "execution_count": 1425,
   "metadata": {},
   "outputs": [],
   "source": [
    "goalState1 = [1,2,3,4,0,5,6,7,8]\n",
    "goalState2 = [1,2,3,4,5,8,6,0,7]\n",
    "goalState3 = [1,0,3,4,5,8,2,6,7]"
   ]
  },
  {
   "cell_type": "code",
   "execution_count": 1426,
   "metadata": {},
   "outputs": [],
   "source": [
    "import time \n",
    "\n",
    "def runExperiment(goalState1, goalState2, goalState3, Hfuctions):\n",
    "    global nodes\n",
    "    nodes=0\n",
    "    \n",
    "    print('{:>9}{:^35}{:^35}{:^35}'.format(' ', str(goalState1), str(goalState2), str(goalState3)))\n",
    "    print('{A:^10}{s:^5}{D:^7}{N:^7}{E:^7}{T:^7}{s:^5}{D:^7}{N:^7}{E:^7}{T:^7}{s:^5}{D:^7}{N:^7}{E:^7}{T:^7}'.format(s=' ' ,A='Algorithm', D='Depth', N='Nodes', E='EBF', T='Time'))\n",
    "    \n",
    "    #IDS\n",
    "    print('{:<10}'.format('IDS'), end='')\n",
    "    for goal in [goalState1, goalState2, goalState3]:\n",
    "        \n",
    "        start_time = time.time()\n",
    "        idf =iterativeDeepeningSearch(startState, goal, actionsF_8p, takeActionF_8p, 12)\n",
    "        end_time = time.time()\n",
    "        \n",
    "        idfNodes = nodes\n",
    "        idfDepth = len(idf) - 1\n",
    "        EBF = ebf(idfNodes,idfDepth)\n",
    "        timeRun = end_time - start_time\n",
    "        print('{s:^5}{D:^7}{N:^7}{E:^7.3f}{T:^7.3f}'.format(s=' ', D=idfDepth, N=idfNodes, E=EBF, T=timeRun), end='')\n",
    "        nodes = 0   # reset nodes expanded for next search\n",
    "    print('')  \n",
    "       \n",
    "    count =1\n",
    "    for i in Hfuctions: \n",
    "        label = 'A*h'+str(count)\n",
    "        print('{:<10}'.format(label), end='')\n",
    "        for goal in [goalState1, goalState2, goalState3]: \n",
    "            start_time = time.time()\n",
    "            a = aStarSearch(startState, actionsF_8p, takeActionF_8p,lambda s: goalTestF_8p(s, goal), lambda s: i(s, goal))\n",
    "            end_time = time.time() \n",
    "            \n",
    "\n",
    "            aNodes= nodes\n",
    "            nodes = 0\n",
    "            aDepth= a[1] \n",
    "            EBF = ebf(aNodes,aDepth)\n",
    "            timeRun= end_time - start_time\n",
    "            print('{s:^5}{D:^7}{N:^7}{E:^7.3f}{T:^7.3f}'.format(s=' ', D=aDepth, N=aNodes, E=EBF, T=timeRun), end='')\n",
    "        print()\n",
    "        count +=1    \n",
    "        \n",
    "        \n",
    "\n",
    "\n",
    "                \n",
    "    "
   ]
  },
  {
   "cell_type": "code",
   "execution_count": 1427,
   "metadata": {},
   "outputs": [
    {
     "name": "stdout",
     "output_type": "stream",
     "text": [
      "             [1, 2, 3, 4, 0, 5, 6, 7, 8]        [1, 2, 3, 4, 5, 8, 6, 0, 7]        [1, 0, 3, 4, 5, 8, 2, 6, 7]    \n",
      "Algorithm       Depth  Nodes   EBF   Time        Depth  Nodes   EBF   Time        Depth  Nodes   EBF   Time  \n",
      "IDS               0      0    0.000  0.000         3     43    3.086  0.000        11   225850  2.954  0.514 \n",
      "A*h1              0      0    0.000  0.000         3     116   4.488  0.000        11   643246  3.263  2.777 \n",
      "A*h2              0      0    0.000  0.000         3      9    1.578  0.000        11    1172   1.762  0.026 \n",
      "A*h3              0      0    0.000  0.000         3      9    1.578  0.000        11    5232   2.049  0.062 \n"
     ]
    }
   ],
   "source": [
    "runExperiment(goalState1, goalState2, goalState3, [h1_8p, h2_8p, h3_8p])\n"
   ]
  },
  {
   "cell_type": "code",
   "execution_count": 1428,
   "metadata": {},
   "outputs": [
    {
     "name": "stdout",
     "output_type": "stream",
     "text": [
      "\n",
      "======================= Code Execution =======================\n",
      "\n",
      "Extracting python code from notebook named 'Goldstein-A3.ipynb' and storing in notebookcode.py\n",
      "Removing all statements that are not function or class defs or import statements.\n",
      "\n",
      "Testing actionsF_8p([1, 2, 3, 4, 5, 6, 7, 0, 8])\n",
      "\n",
      "--- 5/5 points. Your actionsF_8p correctly returned [('left', 1), ('right', 1), ('up', 1)]\n",
      "\n",
      "Testing takeActionF_8p([1, 2, 3, 4, 5, 6, 7, 0, 8], (up, 1))\n",
      "\n",
      "--- 5/5 points. Your takeActionsF_8p correctly returned ([1, 2, 3, 4, 0, 6, 7, 5, 8], 1)\n",
      "\n",
      "Testing goalTestF_8p([1, 2, 3, 4, 5, 6, 7, 0, 8], [1, 2, 3, 4, 5, 6, 7, 0, 8])\n",
      "\n",
      "--- 5/5 points. Your goalTestF_8p correctly True\n",
      "\n",
      "Testing aStarSearch(1, 2, 3, 4, 5, 6, 7, 0, 8],\n",
      "                     actionsF_8p, takeActionF_8p,\n",
      "                     lambda s: goalTestF_8p(s, [0, 2, 3, 1, 4,  6, 7, 5, 8]),\n",
      "                     lambda s: h1_8p(s, [0, 2, 3, 1, 4,  6, 7, 5, 8]))\n",
      "\n",
      "--- 20/20 points. Your search correctly returned ([[1, 2, 3, 4, 5, 6, 7, 0, 8], [1, 2, 3, 4, 0, 6, 7, 5, 8], [1, 2, 3, 0, 4, 6, 7, 5, 8], [0, 2, 3, 1, 4, 6, 7, 5, 8]], 3)\n",
      "\n",
      "Testing iterativeDeepeningSearch([1, 2, 3, 4, 5, 6, 7, 0, 8], \n",
      "                                 [0, 2, 3, 1, 4,  6, 7, 5, 8],\n",
      "                                 actionsF_8p, takeActionF_8p, 10)\n",
      "\n",
      "--- 15/15 points. Your search correctly returned [[1, 2, 3, 4, 5, 6, 7, 0, 8], [1, 2, 3, 4, 0, 6, 7, 5, 8], [1, 2, 3, 0, 4, 6, 7, 5, 8], [0, 2, 3, 1, 4, 6, 7, 5, 8]]\n",
      "\n",
      "Testing iterativeDeepeningSearch([5, 2, 8, 0, 1, 4, 3, 7, 6], \n",
      "                                 [0, 2, 3, 1, 4,  6, 7, 5, 8],\n",
      "                                 actionsF_8p, takeActionF_8p, 10)\n",
      "\n",
      "--- 15/15 points. Your search correctly returned cutoff\n",
      "\n",
      "Testing ebf(100, 6, 0.1)\n",
      "\n",
      "--- 15/15 points. Your call to ebf correctly returned 2.185373306274414\n",
      "\n",
      "P3 Grade is 80/80\n",
      "\n",
      "Up to 20 more points will be given based on the quality of your descriptions of the method and the results.\n"
     ]
    }
   ],
   "source": [
    "%run -i A3grader.py"
   ]
  },
  {
   "cell_type": "code",
   "execution_count": null,
   "metadata": {},
   "outputs": [],
   "source": []
  }
 ],
 "metadata": {
  "anaconda-cloud": {},
  "kernelspec": {
   "display_name": "Python 3",
   "language": "python",
   "name": "python3"
  },
  "language_info": {
   "codemirror_mode": {
    "name": "ipython",
    "version": 3
   },
   "file_extension": ".py",
   "mimetype": "text/x-python",
   "name": "python",
   "nbconvert_exporter": "python",
   "pygments_lexer": "ipython3",
   "version": "3.6.5"
  }
 },
 "nbformat": 4,
 "nbformat_minor": 1
}
